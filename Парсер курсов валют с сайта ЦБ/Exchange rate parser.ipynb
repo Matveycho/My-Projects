{
 "cells": [
  {
   "cell_type": "markdown",
   "id": "8e82f51e",
   "metadata": {},
   "source": [
    "# Парсер курсов валют с сайта ЦБ\n",
    "\n",
    "*Данный парсер собирает данные с сайта ЦБ о курсах валют с июля 1998 года по месяцам и выводит данные в виде таблицы в Excel файл*\n",
    "- Для примера взят период за год\n",
    "- В парсере есть временные ограничения, чтобы сайт не заблокировал подозрительную активность"
   ]
  },
  {
   "cell_type": "code",
   "execution_count": 1,
   "id": "647998a1",
   "metadata": {},
   "outputs": [],
   "source": [
    "import time\n",
    "import requests\n",
    "from bs4 import BeautifulSoup\n",
    "import xml.etree.ElementTree as ET\n",
    "from xml.dom import minidom\n",
    "import pandas as pd\n",
    "import datetime as DT"
   ]
  },
  {
   "cell_type": "code",
   "execution_count": 2,
   "id": "c8e8744b",
   "metadata": {},
   "outputs": [],
   "source": [
    "URL = 'https://www.cbr.ru/currency_base/daily/?UniDbQuery.Posted=True&UniDbQuery.To=01.07.1992'"
   ]
  },
  {
   "cell_type": "code",
   "execution_count": 3,
   "id": "3ca179da",
   "metadata": {},
   "outputs": [],
   "source": [
    "req = requests.get(URL)"
   ]
  },
  {
   "cell_type": "code",
   "execution_count": 4,
   "id": "947f4a11",
   "metadata": {},
   "outputs": [],
   "source": [
    "soup = BeautifulSoup(req.text,'lxml')"
   ]
  },
  {
   "cell_type": "code",
   "execution_count": 5,
   "id": "3fd58aed",
   "metadata": {},
   "outputs": [],
   "source": [
    "table = soup.find('table')"
   ]
  },
  {
   "cell_type": "code",
   "execution_count": 6,
   "id": "47efd050",
   "metadata": {},
   "outputs": [
    {
     "name": "stdout",
     "output_type": "stream",
     "text": [
      "['Цифр. код', 'Букв. код', 'Единиц', 'Валюта', 'Курс']\n"
     ]
    }
   ],
   "source": [
    "heading_table = [] # Список, в котором будут храниться названия столбцов\n",
    "for row in table.find_all('th'): # Названия столбцов прячутся в элементах th, \n",
    "# поэтому будем искать все элементы th внутри table и пробегать по ним в цикле\n",
    "        heading_table.append(row.text) # Добавляем контент из тега th в список heading_table методом append()\n",
    "print(heading_table)"
   ]
  },
  {
   "cell_type": "code",
   "execution_count": 7,
   "id": "d894bddd",
   "metadata": {},
   "outputs": [],
   "source": [
    "heading_table.append('Дата')"
   ]
  },
  {
   "cell_type": "code",
   "execution_count": 8,
   "id": "39821664",
   "metadata": {},
   "outputs": [
    {
     "data": {
      "text/plain": [
       "['Цифр. код', 'Букв. код', 'Единиц', 'Валюта', 'Курс', 'Дата']"
      ]
     },
     "execution_count": 8,
     "metadata": {},
     "output_type": "execute_result"
    }
   ],
   "source": [
    "heading_table"
   ]
  },
  {
   "cell_type": "code",
   "execution_count": 9,
   "id": "d85e8b20",
   "metadata": {},
   "outputs": [],
   "source": [
    "#content=[] # Список, в котором будут храниться данные из таблицы\n",
    "#for row in table.find_all('tr'): \n",
    "# Каждая строка обрамляется тегом tr, необходимо пробежаться в цикле по всем строкам\n",
    "    #if not row.find_all('th'): \n",
    "# Эта проверка необходима, чтобы пропустить первую строку таблицы с заголовками\n",
    "           # content.append([element.text for element in row.find_all('td')])\n",
    "            # В каждой строке контент ячейки обрамляется тегами <td> </td>\n",
    "            # Необходимо пробежаться в цикле по всем элементам td, вычленить контент из ячеек и добавить его в список \n",
    "            # Затем добавить каждый из списков в список content \n",
    "#print(content) "
   ]
  },
  {
   "cell_type": "code",
   "execution_count": 14,
   "id": "65c85cd4",
   "metadata": {},
   "outputs": [],
   "source": [
    "# generation dates\n",
    "start_date = DT.datetime(1992,7,1)\n",
    "end_date = DT.datetime(1993,7,31)"
   ]
  },
  {
   "cell_type": "code",
   "execution_count": 15,
   "id": "87e86ba9",
   "metadata": {},
   "outputs": [],
   "source": [
    "list_date = pd.date_range(min(start_date,end_date),max(start_date,end_date)).strftime('%d.%m.%Y')"
   ]
  },
  {
   "cell_type": "code",
   "execution_count": 16,
   "id": "ba584d11",
   "metadata": {},
   "outputs": [],
   "source": [
    "content_2 = []\n",
    "for row in range(0,len(list_date)):\n",
    "    URL_1 = 'https://www.cbr.ru/currency_base/daily/?UniDbQuery.Posted=True&UniDbQuery.To={name}'.format(name=list_date[row])\n",
    "    req_1 = requests.get(URL_1)\n",
    "    soup_1 = BeautifulSoup(req_1.text,'lxml')\n",
    "    table_1 = soup_1.find('table')\n",
    "    content_1=[]\n",
    "    for i in table_1.find_all('tr'): \n",
    "        if not i.find_all('th'): \n",
    "            content_1.append([element.text for element in i.find_all('td')])\n",
    "    # Добавляем дату в список\n",
    "    for j in range(0,len(content_1)): \n",
    "        content_1[j].insert(5,list_date[row])\n",
    "    content_2 = content_2 + content_1\n",
    "    time.sleep(30)"
   ]
  },
  {
   "cell_type": "code",
   "execution_count": 17,
   "id": "6941384b",
   "metadata": {},
   "outputs": [
    {
     "data": {
      "text/html": [
       "<div>\n",
       "<style scoped>\n",
       "    .dataframe tbody tr th:only-of-type {\n",
       "        vertical-align: middle;\n",
       "    }\n",
       "\n",
       "    .dataframe tbody tr th {\n",
       "        vertical-align: top;\n",
       "    }\n",
       "\n",
       "    .dataframe thead th {\n",
       "        text-align: right;\n",
       "    }\n",
       "</style>\n",
       "<table border=\"1\" class=\"dataframe\">\n",
       "  <thead>\n",
       "    <tr style=\"text-align: right;\">\n",
       "      <th></th>\n",
       "      <th>Цифр. код</th>\n",
       "      <th>Букв. код</th>\n",
       "      <th>Единиц</th>\n",
       "      <th>Валюта</th>\n",
       "      <th>Курс</th>\n",
       "      <th>Дата</th>\n",
       "    </tr>\n",
       "  </thead>\n",
       "  <tbody>\n",
       "    <tr>\n",
       "      <th>0</th>\n",
       "      <td>036</td>\n",
       "      <td>AUD</td>\n",
       "      <td>1</td>\n",
       "      <td>Австралийский доллар</td>\n",
       "      <td>93,7400</td>\n",
       "      <td>01.07.1992</td>\n",
       "    </tr>\n",
       "    <tr>\n",
       "      <th>1</th>\n",
       "      <td>040</td>\n",
       "      <td>ATS</td>\n",
       "      <td>1</td>\n",
       "      <td>Австрийский шиллинг</td>\n",
       "      <td>11,6700</td>\n",
       "      <td>01.07.1992</td>\n",
       "    </tr>\n",
       "    <tr>\n",
       "      <th>2</th>\n",
       "      <td>056</td>\n",
       "      <td>BEF</td>\n",
       "      <td>10</td>\n",
       "      <td>Бельгийских франков</td>\n",
       "      <td>39,9200</td>\n",
       "      <td>01.07.1992</td>\n",
       "    </tr>\n",
       "    <tr>\n",
       "      <th>3</th>\n",
       "      <td>300</td>\n",
       "      <td>GRD</td>\n",
       "      <td>1000</td>\n",
       "      <td>Греческих драхм</td>\n",
       "      <td>6,7700</td>\n",
       "      <td>01.07.1992</td>\n",
       "    </tr>\n",
       "    <tr>\n",
       "      <th>4</th>\n",
       "      <td>208</td>\n",
       "      <td>DKK</td>\n",
       "      <td>1</td>\n",
       "      <td>Датская крона</td>\n",
       "      <td>21,3900</td>\n",
       "      <td>01.07.1992</td>\n",
       "    </tr>\n",
       "    <tr>\n",
       "      <th>...</th>\n",
       "      <td>...</td>\n",
       "      <td>...</td>\n",
       "      <td>...</td>\n",
       "      <td>...</td>\n",
       "      <td>...</td>\n",
       "      <td>...</td>\n",
       "    </tr>\n",
       "    <tr>\n",
       "      <th>1409</th>\n",
       "      <td>826</td>\n",
       "      <td>GBP</td>\n",
       "      <td>1</td>\n",
       "      <td>Фунт стерлингов Соединенного королевства</td>\n",
       "      <td>405,8400</td>\n",
       "      <td>31.08.1992</td>\n",
       "    </tr>\n",
       "    <tr>\n",
       "      <th>1410</th>\n",
       "      <td>752</td>\n",
       "      <td>SEK</td>\n",
       "      <td>1</td>\n",
       "      <td>Шведская крона</td>\n",
       "      <td>39,7400</td>\n",
       "      <td>31.08.1992</td>\n",
       "    </tr>\n",
       "    <tr>\n",
       "      <th>1411</th>\n",
       "      <td>756</td>\n",
       "      <td>CHF</td>\n",
       "      <td>1</td>\n",
       "      <td>Швейцарский франк</td>\n",
       "      <td>162,1200</td>\n",
       "      <td>31.08.1992</td>\n",
       "    </tr>\n",
       "    <tr>\n",
       "      <th>1412</th>\n",
       "      <td>954</td>\n",
       "      <td>XEU</td>\n",
       "      <td>1</td>\n",
       "      <td>ЭКЮ</td>\n",
       "      <td>293,5000</td>\n",
       "      <td>31.08.1992</td>\n",
       "    </tr>\n",
       "    <tr>\n",
       "      <th>1413</th>\n",
       "      <td>392</td>\n",
       "      <td>JPY</td>\n",
       "      <td>10</td>\n",
       "      <td>Японских иен</td>\n",
       "      <td>16,3900</td>\n",
       "      <td>31.08.1992</td>\n",
       "    </tr>\n",
       "  </tbody>\n",
       "</table>\n",
       "<p>1414 rows × 6 columns</p>\n",
       "</div>"
      ],
      "text/plain": [
       "     Цифр. код Букв. код Единиц                                    Валюта  \\\n",
       "0          036       AUD      1                      Австралийский доллар   \n",
       "1          040       ATS      1                       Австрийский шиллинг   \n",
       "2          056       BEF     10                       Бельгийских франков   \n",
       "3          300       GRD   1000                           Греческих драхм   \n",
       "4          208       DKK      1                             Датская крона   \n",
       "...        ...       ...    ...                                       ...   \n",
       "1409       826       GBP      1  Фунт стерлингов Соединенного королевства   \n",
       "1410       752       SEK      1                            Шведская крона   \n",
       "1411       756       CHF      1                         Швейцарский франк   \n",
       "1412       954       XEU      1                                       ЭКЮ   \n",
       "1413       392       JPY     10                              Японских иен   \n",
       "\n",
       "          Курс        Дата  \n",
       "0      93,7400  01.07.1992  \n",
       "1      11,6700  01.07.1992  \n",
       "2      39,9200  01.07.1992  \n",
       "3       6,7700  01.07.1992  \n",
       "4      21,3900  01.07.1992  \n",
       "...        ...         ...  \n",
       "1409  405,8400  31.08.1992  \n",
       "1410   39,7400  31.08.1992  \n",
       "1411  162,1200  31.08.1992  \n",
       "1412  293,5000  31.08.1992  \n",
       "1413   16,3900  31.08.1992  \n",
       "\n",
       "[1414 rows x 6 columns]"
      ]
     },
     "execution_count": 17,
     "metadata": {},
     "output_type": "execute_result"
    }
   ],
   "source": [
    "course_data_1 = pd.DataFrame(content_2, columns=heading_table) \n",
    "# в качестве данных передаем двумерный список content, а в качестве заголовков - heading_table\n",
    "course_data "
   ]
  },
  {
   "cell_type": "code",
   "execution_count": 18,
   "id": "1ef9e1ef",
   "metadata": {},
   "outputs": [],
   "source": [
    "course_data_1.to_excel('./course_data.xlsx')"
   ]
  },
  {
   "cell_type": "code",
   "execution_count": 27,
   "id": "c739f15a",
   "metadata": {},
   "outputs": [],
   "source": []
  },
  {
   "cell_type": "code",
   "execution_count": 29,
   "id": "e9a409d7",
   "metadata": {},
   "outputs": [],
   "source": []
  }
 ],
 "metadata": {
  "ExecuteTimeLog": [
   {
    "duration": 773,
    "start_time": "2022-03-31T00:22:59.755Z"
   },
   {
    "duration": 5,
    "start_time": "2022-03-31T00:23:22.437Z"
   },
   {
    "duration": 203,
    "start_time": "2022-03-31T00:25:22.400Z"
   },
   {
    "duration": 27,
    "start_time": "2022-03-31T00:26:26.049Z"
   },
   {
    "duration": 59,
    "start_time": "2022-03-31T00:26:51.885Z"
   },
   {
    "duration": 4,
    "start_time": "2022-03-31T00:29:22.926Z"
   },
   {
    "duration": 21,
    "start_time": "2022-03-31T00:29:28.947Z"
   },
   {
    "duration": 110,
    "start_time": "2022-03-31T00:30:50.762Z"
   },
   {
    "duration": 5,
    "start_time": "2022-03-31T00:31:19.300Z"
   },
   {
    "duration": 9,
    "start_time": "2022-03-31T00:31:22.311Z"
   },
   {
    "duration": 19,
    "start_time": "2022-03-31T00:31:34.163Z"
   },
   {
    "duration": 6,
    "start_time": "2022-03-31T00:31:56.011Z"
   },
   {
    "duration": 5,
    "start_time": "2022-03-31T00:32:06.323Z"
   },
   {
    "duration": 5,
    "start_time": "2022-03-31T00:32:19.755Z"
   },
   {
    "duration": 4,
    "start_time": "2022-03-31T00:40:43.222Z"
   },
   {
    "duration": 4,
    "start_time": "2022-03-31T00:40:53.722Z"
   },
   {
    "duration": 8,
    "start_time": "2022-03-31T00:41:01.273Z"
   },
   {
    "duration": 4,
    "start_time": "2022-03-31T00:41:38.603Z"
   },
   {
    "duration": 8,
    "start_time": "2022-03-31T00:41:39.664Z"
   },
   {
    "duration": 11,
    "start_time": "2022-03-31T00:42:39.242Z"
   },
   {
    "duration": 5,
    "start_time": "2022-03-31T00:43:45.604Z"
   },
   {
    "duration": 8,
    "start_time": "2022-03-31T00:43:47.805Z"
   },
   {
    "duration": 12,
    "start_time": "2022-03-31T00:43:59.535Z"
   },
   {
    "duration": 4,
    "start_time": "2022-03-31T00:44:59.712Z"
   },
   {
    "duration": 21,
    "start_time": "2022-03-31T00:45:00.444Z"
   },
   {
    "duration": 5,
    "start_time": "2022-03-31T00:45:04.515Z"
   },
   {
    "duration": 7,
    "start_time": "2022-03-31T00:52:56.892Z"
   },
   {
    "duration": 14,
    "start_time": "2022-03-31T00:53:24.696Z"
   },
   {
    "duration": 11,
    "start_time": "2022-03-31T00:53:33.770Z"
   },
   {
    "duration": 17,
    "start_time": "2022-03-31T00:54:18.121Z"
   },
   {
    "duration": 10,
    "start_time": "2022-03-31T00:54:34.283Z"
   },
   {
    "duration": 532,
    "start_time": "2022-03-31T23:45:48.315Z"
   },
   {
    "duration": 2,
    "start_time": "2022-03-31T23:45:48.849Z"
   },
   {
    "duration": 141,
    "start_time": "2022-03-31T23:45:48.852Z"
   },
   {
    "duration": 15,
    "start_time": "2022-03-31T23:45:48.995Z"
   },
   {
    "duration": 3,
    "start_time": "2022-03-31T23:45:49.012Z"
   },
   {
    "duration": 19,
    "start_time": "2022-03-31T23:45:49.016Z"
   },
   {
    "duration": 5,
    "start_time": "2022-03-31T23:45:49.036Z"
   },
   {
    "duration": 6,
    "start_time": "2022-03-31T23:45:49.042Z"
   },
   {
    "duration": 12,
    "start_time": "2022-03-31T23:45:49.049Z"
   },
   {
    "duration": 3,
    "start_time": "2022-03-31T23:46:41.616Z"
   },
   {
    "duration": 2,
    "start_time": "2022-03-31T23:51:48.172Z"
   },
   {
    "duration": 3,
    "start_time": "2022-03-31T23:55:33.875Z"
   },
   {
    "duration": 3,
    "start_time": "2022-04-01T00:03:37.346Z"
   },
   {
    "duration": 5,
    "start_time": "2022-04-01T00:03:59.466Z"
   },
   {
    "duration": 4,
    "start_time": "2022-04-01T00:04:05.972Z"
   },
   {
    "duration": 3,
    "start_time": "2022-04-01T00:04:29.699Z"
   },
   {
    "duration": 4,
    "start_time": "2022-04-01T00:04:30.964Z"
   },
   {
    "duration": 5,
    "start_time": "2022-04-01T00:04:32.258Z"
   },
   {
    "duration": 3,
    "start_time": "2022-04-01T00:04:49.499Z"
   },
   {
    "duration": 4,
    "start_time": "2022-04-01T00:04:55.190Z"
   },
   {
    "duration": 76,
    "start_time": "2022-04-01T00:06:37.856Z"
   },
   {
    "duration": 3,
    "start_time": "2022-04-01T00:08:35.608Z"
   },
   {
    "duration": 10,
    "start_time": "2022-04-01T00:08:50.085Z"
   },
   {
    "duration": 4,
    "start_time": "2022-04-01T00:08:56.029Z"
   },
   {
    "duration": 4,
    "start_time": "2022-04-01T00:20:28.596Z"
   },
   {
    "duration": 17,
    "start_time": "2022-04-01T00:20:50.166Z"
   },
   {
    "duration": 10,
    "start_time": "2022-04-01T00:31:38.002Z"
   },
   {
    "duration": 73,
    "start_time": "2022-04-01T00:42:48.175Z"
   },
   {
    "duration": 4,
    "start_time": "2022-04-01T00:43:36.380Z"
   },
   {
    "duration": 12,
    "start_time": "2022-04-01T00:44:16.550Z"
   },
   {
    "duration": 4,
    "start_time": "2022-04-01T00:45:01.635Z"
   },
   {
    "duration": 15,
    "start_time": "2022-04-01T00:45:02.524Z"
   },
   {
    "duration": 4,
    "start_time": "2022-04-01T00:48:55.292Z"
   },
   {
    "duration": 340,
    "start_time": "2022-04-01T00:48:56.334Z"
   },
   {
    "duration": 5,
    "start_time": "2022-04-01T00:49:06.534Z"
   },
   {
    "duration": 4,
    "start_time": "2022-04-01T00:49:30.733Z"
   },
   {
    "duration": 583,
    "start_time": "2022-04-01T00:49:31.931Z"
   },
   {
    "duration": 5,
    "start_time": "2022-04-01T00:49:33.351Z"
   },
   {
    "duration": 4,
    "start_time": "2022-04-01T00:50:28.529Z"
   },
   {
    "duration": 666,
    "start_time": "2022-04-01T00:50:29.636Z"
   },
   {
    "duration": 6,
    "start_time": "2022-04-01T00:50:30.525Z"
   },
   {
    "duration": 4,
    "start_time": "2022-04-01T00:52:05.593Z"
   },
   {
    "duration": 590,
    "start_time": "2022-04-01T00:52:06.623Z"
   },
   {
    "duration": 6,
    "start_time": "2022-04-01T00:52:08.027Z"
   },
   {
    "duration": 81,
    "start_time": "2022-04-01T00:53:30.023Z"
   },
   {
    "duration": 6,
    "start_time": "2022-04-01T00:54:03.470Z"
   },
   {
    "duration": 676,
    "start_time": "2022-04-01T00:54:04.640Z"
   },
   {
    "duration": 5,
    "start_time": "2022-04-01T00:54:06.028Z"
   },
   {
    "duration": 7,
    "start_time": "2022-04-01T00:55:25.215Z"
   },
   {
    "duration": 4,
    "start_time": "2022-04-01T00:56:03.561Z"
   },
   {
    "duration": 575,
    "start_time": "2022-04-01T00:56:04.717Z"
   },
   {
    "duration": 683,
    "start_time": "2022-04-03T04:01:22.176Z"
   },
   {
    "duration": 3,
    "start_time": "2022-04-03T04:01:22.862Z"
   },
   {
    "duration": 161,
    "start_time": "2022-04-03T04:01:22.867Z"
   },
   {
    "duration": 24,
    "start_time": "2022-04-03T04:01:23.031Z"
   },
   {
    "duration": 3,
    "start_time": "2022-04-03T04:01:23.059Z"
   },
   {
    "duration": 29,
    "start_time": "2022-04-03T04:01:23.064Z"
   },
   {
    "duration": 5,
    "start_time": "2022-04-03T04:01:23.095Z"
   },
   {
    "duration": 8,
    "start_time": "2022-04-03T04:01:23.103Z"
   },
   {
    "duration": 17,
    "start_time": "2022-04-03T04:01:23.113Z"
   },
   {
    "duration": 13,
    "start_time": "2022-04-03T04:01:23.132Z"
   },
   {
    "duration": 8,
    "start_time": "2022-04-03T04:01:23.147Z"
   },
   {
    "duration": 31,
    "start_time": "2022-04-03T04:01:23.157Z"
   },
   {
    "duration": 3,
    "start_time": "2022-04-03T04:01:23.190Z"
   },
   {
    "duration": 6,
    "start_time": "2022-04-03T04:01:23.197Z"
   },
   {
    "duration": 567,
    "start_time": "2022-04-03T04:01:23.205Z"
   },
   {
    "duration": 101,
    "start_time": "2022-04-03T04:01:23.774Z"
   },
   {
    "duration": 6,
    "start_time": "2022-04-03T04:02:38.236Z"
   },
   {
    "duration": 671,
    "start_time": "2022-04-03T04:02:40.315Z"
   },
   {
    "duration": 6,
    "start_time": "2022-04-03T04:03:09.104Z"
   },
   {
    "duration": 662,
    "start_time": "2022-04-03T04:03:10.575Z"
   },
   {
    "duration": 6,
    "start_time": "2022-04-03T04:04:44.624Z"
   },
   {
    "duration": 593,
    "start_time": "2022-04-03T04:04:45.790Z"
   },
   {
    "duration": 6,
    "start_time": "2022-04-03T04:04:55.736Z"
   },
   {
    "duration": 737,
    "start_time": "2022-04-03T04:04:56.763Z"
   },
   {
    "duration": 8,
    "start_time": "2022-04-03T04:05:34.161Z"
   },
   {
    "duration": 6,
    "start_time": "2022-04-03T04:06:24.362Z"
   },
   {
    "duration": 4,
    "start_time": "2022-04-03T04:06:25.970Z"
   },
   {
    "duration": 9,
    "start_time": "2022-04-03T04:06:34.750Z"
   },
   {
    "duration": 9,
    "start_time": "2022-04-03T04:09:31.964Z"
   },
   {
    "duration": 9,
    "start_time": "2022-04-03T04:09:42.543Z"
   },
   {
    "duration": 144,
    "start_time": "2022-04-03T04:13:35.044Z"
   },
   {
    "duration": 146,
    "start_time": "2022-04-03T04:15:38.341Z"
   },
   {
    "duration": 591,
    "start_time": "2022-04-03T04:16:45.530Z"
   },
   {
    "duration": 12,
    "start_time": "2022-04-03T04:17:02.702Z"
   },
   {
    "duration": 6,
    "start_time": "2022-04-03T04:18:17.389Z"
   },
   {
    "duration": 13,
    "start_time": "2022-04-03T04:18:39.249Z"
   },
   {
    "duration": 4,
    "start_time": "2022-04-03T04:18:41.320Z"
   },
   {
    "duration": 135,
    "start_time": "2022-04-03T04:19:21.308Z"
   },
   {
    "duration": 570,
    "start_time": "2022-04-03T04:19:29.308Z"
   },
   {
    "duration": 13,
    "start_time": "2022-04-03T04:19:31.400Z"
   },
   {
    "duration": 5,
    "start_time": "2022-04-03T04:20:00.468Z"
   },
   {
    "duration": 6,
    "start_time": "2022-04-03T04:27:27.889Z"
   },
   {
    "duration": 6,
    "start_time": "2022-04-03T04:27:37.390Z"
   },
   {
    "duration": 10,
    "start_time": "2022-04-03T04:27:52.949Z"
   },
   {
    "duration": 6,
    "start_time": "2022-04-03T04:28:12.857Z"
   },
   {
    "duration": 5,
    "start_time": "2022-04-03T04:29:43.587Z"
   },
   {
    "duration": 6,
    "start_time": "2022-04-03T04:29:59.789Z"
   },
   {
    "duration": 6,
    "start_time": "2022-04-03T04:30:05.317Z"
   },
   {
    "duration": 6,
    "start_time": "2022-04-03T04:30:15.094Z"
   },
   {
    "duration": 569,
    "start_time": "2022-04-03T05:00:59.221Z"
   },
   {
    "duration": 6,
    "start_time": "2022-04-03T05:01:01.911Z"
   },
   {
    "duration": 12,
    "start_time": "2022-04-03T05:01:08.230Z"
   },
   {
    "duration": 5,
    "start_time": "2022-04-03T05:07:41.225Z"
   },
   {
    "duration": 6,
    "start_time": "2022-04-03T05:07:41.233Z"
   },
   {
    "duration": 173,
    "start_time": "2022-04-03T05:07:41.242Z"
   },
   {
    "duration": 82,
    "start_time": "2022-04-03T05:07:41.418Z"
   },
   {
    "duration": 5,
    "start_time": "2022-04-03T05:07:41.504Z"
   },
   {
    "duration": 23,
    "start_time": "2022-04-03T05:07:41.511Z"
   },
   {
    "duration": 6,
    "start_time": "2022-04-03T05:07:41.537Z"
   },
   {
    "duration": 6,
    "start_time": "2022-04-03T05:07:41.582Z"
   },
   {
    "duration": 13,
    "start_time": "2022-04-03T05:07:41.591Z"
   },
   {
    "duration": 9,
    "start_time": "2022-04-03T05:07:41.606Z"
   },
   {
    "duration": 8,
    "start_time": "2022-04-03T05:07:41.617Z"
   },
   {
    "duration": 8,
    "start_time": "2022-04-03T05:07:41.627Z"
   },
   {
    "duration": 51,
    "start_time": "2022-04-03T05:07:41.638Z"
   },
   {
    "duration": 5,
    "start_time": "2022-04-03T05:07:41.694Z"
   },
   {
    "duration": 595,
    "start_time": "2022-04-03T05:07:41.701Z"
   },
   {
    "duration": 14,
    "start_time": "2022-04-03T05:07:42.298Z"
   },
   {
    "duration": 11,
    "start_time": "2022-04-03T05:07:42.314Z"
   },
   {
    "duration": 174,
    "start_time": "2022-04-03T05:10:23.688Z"
   },
   {
    "duration": 265,
    "start_time": "2022-04-03T05:10:40.537Z"
   },
   {
    "duration": 296,
    "start_time": "2022-04-03T05:11:14.990Z"
   },
   {
    "duration": 221,
    "start_time": "2022-04-03T05:11:44.362Z"
   },
   {
    "duration": 226,
    "start_time": "2022-04-03T05:12:24.422Z"
   },
   {
    "duration": 695,
    "start_time": "2022-04-03T05:20:02.222Z"
   },
   {
    "duration": 6,
    "start_time": "2022-04-03T05:20:05.181Z"
   },
   {
    "duration": 8,
    "start_time": "2022-04-03T05:20:08.341Z"
   },
   {
    "duration": 9,
    "start_time": "2022-04-03T05:20:56.922Z"
   },
   {
    "duration": 4,
    "start_time": "2022-04-03T05:21:03.814Z"
   },
   {
    "duration": 8,
    "start_time": "2022-04-03T05:21:10.822Z"
   },
   {
    "duration": 552,
    "start_time": "2022-04-03T05:21:53.865Z"
   },
   {
    "duration": 8,
    "start_time": "2022-04-03T05:22:00.273Z"
   },
   {
    "duration": 6,
    "start_time": "2022-04-03T05:22:09.961Z"
   },
   {
    "duration": 4,
    "start_time": "2022-04-03T05:23:00.934Z"
   },
   {
    "duration": 7,
    "start_time": "2022-04-03T05:23:06.977Z"
   },
   {
    "duration": 234,
    "start_time": "2022-04-03T05:29:28.131Z"
   },
   {
    "duration": 187,
    "start_time": "2022-04-03T05:29:44.642Z"
   },
   {
    "duration": 668,
    "start_time": "2022-04-03T05:31:31.962Z"
   },
   {
    "duration": 8,
    "start_time": "2022-04-03T05:31:40.282Z"
   },
   {
    "duration": 6,
    "start_time": "2022-04-03T05:32:10.542Z"
   },
   {
    "duration": 9,
    "start_time": "2022-04-03T05:32:10.551Z"
   },
   {
    "duration": 224,
    "start_time": "2022-04-03T05:32:10.563Z"
   },
   {
    "duration": 37,
    "start_time": "2022-04-03T05:32:10.790Z"
   },
   {
    "duration": 5,
    "start_time": "2022-04-03T05:32:10.831Z"
   },
   {
    "duration": 44,
    "start_time": "2022-04-03T05:32:10.839Z"
   },
   {
    "duration": 11,
    "start_time": "2022-04-03T05:32:10.886Z"
   },
   {
    "duration": 23,
    "start_time": "2022-04-03T05:32:10.899Z"
   },
   {
    "duration": 27,
    "start_time": "2022-04-03T05:32:10.925Z"
   },
   {
    "duration": 13,
    "start_time": "2022-04-03T05:32:10.954Z"
   },
   {
    "duration": 13,
    "start_time": "2022-04-03T05:32:10.970Z"
   },
   {
    "duration": 12,
    "start_time": "2022-04-03T05:32:10.985Z"
   },
   {
    "duration": 26,
    "start_time": "2022-04-03T05:32:10.999Z"
   },
   {
    "duration": 10,
    "start_time": "2022-04-03T05:32:11.029Z"
   },
   {
    "duration": 666,
    "start_time": "2022-04-03T05:32:11.041Z"
   },
   {
    "duration": 8,
    "start_time": "2022-04-03T05:32:11.709Z"
   },
   {
    "duration": 652,
    "start_time": "2022-04-03T05:32:11.719Z"
   },
   {
    "duration": 15,
    "start_time": "2022-04-03T05:32:12.374Z"
   },
   {
    "duration": 668,
    "start_time": "2022-04-03T05:34:51.012Z"
   },
   {
    "duration": 13,
    "start_time": "2022-04-03T05:34:56.774Z"
   },
   {
    "duration": 606,
    "start_time": "2022-04-03T05:35:27.491Z"
   },
   {
    "duration": 14,
    "start_time": "2022-04-03T05:35:29.022Z"
   },
   {
    "duration": 6,
    "start_time": "2022-04-03T05:35:58.448Z"
   },
   {
    "duration": 6,
    "start_time": "2022-04-03T05:36:05.982Z"
   },
   {
    "duration": 5,
    "start_time": "2022-04-03T05:36:20.305Z"
   },
   {
    "duration": 13,
    "start_time": "2022-04-03T05:36:26.435Z"
   },
   {
    "duration": 279,
    "start_time": "2022-04-03T05:39:40.643Z"
   },
   {
    "duration": 215,
    "start_time": "2022-04-03T05:40:17.095Z"
   },
   {
    "duration": 194,
    "start_time": "2022-04-03T05:40:51.563Z"
   },
   {
    "duration": 644,
    "start_time": "2022-04-03T05:45:55.791Z"
   },
   {
    "duration": 4,
    "start_time": "2022-04-03T05:46:19.013Z"
   },
   {
    "duration": 4,
    "start_time": "2022-04-03T05:46:19.023Z"
   },
   {
    "duration": 203,
    "start_time": "2022-04-03T05:46:19.030Z"
   },
   {
    "duration": 23,
    "start_time": "2022-04-03T05:46:19.236Z"
   },
   {
    "duration": 4,
    "start_time": "2022-04-03T05:46:19.262Z"
   },
   {
    "duration": 22,
    "start_time": "2022-04-03T05:46:19.268Z"
   },
   {
    "duration": 6,
    "start_time": "2022-04-03T05:46:19.292Z"
   },
   {
    "duration": 9,
    "start_time": "2022-04-03T05:46:19.300Z"
   },
   {
    "duration": 20,
    "start_time": "2022-04-03T05:46:19.311Z"
   },
   {
    "duration": 5,
    "start_time": "2022-04-03T05:46:19.334Z"
   },
   {
    "duration": 7,
    "start_time": "2022-04-03T05:46:19.341Z"
   },
   {
    "duration": 33,
    "start_time": "2022-04-03T05:46:19.350Z"
   },
   {
    "duration": 12,
    "start_time": "2022-04-03T05:46:19.385Z"
   },
   {
    "duration": 6,
    "start_time": "2022-04-03T05:46:19.400Z"
   },
   {
    "duration": 508,
    "start_time": "2022-04-03T05:46:19.408Z"
   },
   {
    "duration": 6,
    "start_time": "2022-04-03T05:46:19.918Z"
   },
   {
    "duration": 8,
    "start_time": "2022-04-03T05:46:19.926Z"
   },
   {
    "duration": 11,
    "start_time": "2022-04-03T05:46:19.935Z"
   },
   {
    "duration": 618,
    "start_time": "2022-04-03T05:46:38.914Z"
   },
   {
    "duration": 649,
    "start_time": "2022-04-03T05:48:37.942Z"
   },
   {
    "duration": 607,
    "start_time": "2022-04-03T05:48:55.583Z"
   },
   {
    "duration": 652,
    "start_time": "2022-04-03T05:49:06.874Z"
   },
   {
    "duration": 755,
    "start_time": "2022-04-03T05:49:49.436Z"
   },
   {
    "duration": 233,
    "start_time": "2022-04-03T05:51:08.758Z"
   },
   {
    "duration": 672,
    "start_time": "2022-04-03T05:51:35.457Z"
   },
   {
    "duration": 613,
    "start_time": "2022-04-03T05:52:06.158Z"
   },
   {
    "duration": 652,
    "start_time": "2022-04-03T05:53:45.777Z"
   },
   {
    "duration": 700,
    "start_time": "2022-04-03T05:54:08.617Z"
   },
   {
    "duration": 13,
    "start_time": "2022-04-03T05:54:11.628Z"
   },
   {
    "duration": 4,
    "start_time": "2022-04-03T05:57:50.078Z"
   },
   {
    "duration": 5,
    "start_time": "2022-04-03T05:59:29.670Z"
   },
   {
    "duration": 4,
    "start_time": "2022-04-03T05:59:51.917Z"
   },
   {
    "duration": 5,
    "start_time": "2022-04-03T06:00:04.978Z"
   },
   {
    "duration": 10,
    "start_time": "2022-04-03T06:02:10.118Z"
   },
   {
    "duration": 20,
    "start_time": "2022-04-03T06:02:24.877Z"
   },
   {
    "duration": 20,
    "start_time": "2022-04-03T06:14:51.735Z"
   },
   {
    "duration": 16,
    "start_time": "2022-04-03T06:15:20.475Z"
   },
   {
    "duration": 406,
    "start_time": "2022-04-03T06:16:02.835Z"
   },
   {
    "duration": 4,
    "start_time": "2022-04-03T06:18:56.755Z"
   },
   {
    "duration": 4,
    "start_time": "2022-04-03T06:19:05.107Z"
   },
   {
    "duration": 4,
    "start_time": "2022-04-03T06:19:05.118Z"
   },
   {
    "duration": 186,
    "start_time": "2022-04-03T06:19:05.125Z"
   },
   {
    "duration": 23,
    "start_time": "2022-04-03T06:19:05.314Z"
   },
   {
    "duration": 4,
    "start_time": "2022-04-03T06:19:05.339Z"
   },
   {
    "duration": 31,
    "start_time": "2022-04-03T06:19:05.346Z"
   },
   {
    "duration": 7,
    "start_time": "2022-04-03T06:19:05.379Z"
   },
   {
    "duration": 10,
    "start_time": "2022-04-03T06:19:05.388Z"
   },
   {
    "duration": 3,
    "start_time": "2022-04-03T06:19:05.434Z"
   },
   {
    "duration": 11,
    "start_time": "2022-04-03T06:19:05.439Z"
   },
   {
    "duration": 7,
    "start_time": "2022-04-03T06:19:05.452Z"
   },
   {
    "duration": 6142,
    "start_time": "2022-04-03T06:19:05.462Z"
   },
   {
    "duration": 20,
    "start_time": "2022-04-03T06:19:11.606Z"
   },
   {
    "duration": 345,
    "start_time": "2022-04-03T06:19:11.628Z"
   },
   {
    "duration": 689,
    "start_time": "2022-04-04T23:44:23.629Z"
   },
   {
    "duration": 4,
    "start_time": "2022-04-04T23:44:25.670Z"
   },
   {
    "duration": 203,
    "start_time": "2022-04-04T23:44:26.541Z"
   },
   {
    "duration": 24,
    "start_time": "2022-04-04T23:44:27.556Z"
   },
   {
    "duration": 4,
    "start_time": "2022-04-04T23:44:28.290Z"
   },
   {
    "duration": 5,
    "start_time": "2022-04-04T23:44:30.536Z"
   },
   {
    "duration": 4,
    "start_time": "2022-04-04T23:44:33.062Z"
   },
   {
    "duration": 12,
    "start_time": "2022-04-04T23:44:33.827Z"
   },
   {
    "duration": 4,
    "start_time": "2022-04-04T23:44:37.697Z"
   },
   {
    "duration": 4,
    "start_time": "2022-04-04T23:44:58.746Z"
   },
   {
    "duration": 7,
    "start_time": "2022-04-04T23:44:59.819Z"
   },
   {
    "duration": 4,
    "start_time": "2022-04-04T23:56:59.899Z"
   },
   {
    "duration": 8,
    "start_time": "2022-04-04T23:57:03.789Z"
   },
   {
    "duration": 4,
    "start_time": "2022-04-04T23:57:19.625Z"
   },
   {
    "duration": 6,
    "start_time": "2022-04-04T23:57:20.605Z"
   },
   {
    "duration": 1874639,
    "start_time": "2022-04-04T23:57:22.012Z"
   },
   {
    "duration": 23,
    "start_time": "2022-04-05T00:44:08.218Z"
   },
   {
    "duration": 709,
    "start_time": "2022-04-05T00:44:21.854Z"
   },
   {
    "duration": 16,
    "start_time": "2022-04-05T00:53:31.623Z"
   },
   {
    "duration": 5,
    "start_time": "2022-04-05T00:57:40.935Z"
   },
   {
    "duration": 132,
    "start_time": "2022-04-05T00:58:13.646Z"
   },
   {
    "duration": 8,
    "start_time": "2022-04-05T01:03:25.761Z"
   },
   {
    "duration": 12,
    "start_time": "2022-04-05T01:03:43.078Z"
   },
   {
    "duration": 11,
    "start_time": "2022-04-05T01:03:59.006Z"
   },
   {
    "duration": 11,
    "start_time": "2022-04-05T01:04:18.677Z"
   },
   {
    "duration": 12,
    "start_time": "2022-04-05T01:04:29.596Z"
   },
   {
    "duration": 5,
    "start_time": "2022-04-05T01:05:15.726Z"
   },
   {
    "duration": 8,
    "start_time": "2022-04-05T01:05:22.357Z"
   },
   {
    "duration": 584,
    "start_time": "2022-04-05T01:06:11.497Z"
   },
   {
    "duration": 20,
    "start_time": "2022-04-05T01:06:16.851Z"
   },
   {
    "duration": 27,
    "start_time": "2022-04-05T01:07:04.251Z"
   },
   {
    "duration": 12,
    "start_time": "2022-04-05T01:07:25.289Z"
   }
  ],
  "kernelspec": {
   "display_name": "Python 3 (ipykernel)",
   "language": "python",
   "name": "python3"
  },
  "language_info": {
   "codemirror_mode": {
    "name": "ipython",
    "version": 3
   },
   "file_extension": ".py",
   "mimetype": "text/x-python",
   "name": "python",
   "nbconvert_exporter": "python",
   "pygments_lexer": "ipython3",
   "version": "3.9.5"
  },
  "toc": {
   "base_numbering": 1,
   "nav_menu": {},
   "number_sections": true,
   "sideBar": true,
   "skip_h1_title": true,
   "title_cell": "Table of Contents",
   "title_sidebar": "Contents",
   "toc_cell": false,
   "toc_position": {},
   "toc_section_display": true,
   "toc_window_display": false
  }
 },
 "nbformat": 4,
 "nbformat_minor": 5
}
